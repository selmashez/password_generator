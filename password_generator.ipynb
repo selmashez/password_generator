{
  "nbformat": 4,
  "nbformat_minor": 0,
  "metadata": {
    "colab": {
      "provenance": []
    },
    "kernelspec": {
      "name": "python3",
      "display_name": "Python 3"
    },
    "language_info": {
      "name": "python"
    }
  },
  "cells": [
    {
      "cell_type": "code",
      "execution_count": 2,
      "metadata": {
        "colab": {
          "base_uri": "https://localhost:8080/"
        },
        "id": "TX9Q0pMs5QK1",
        "outputId": "03a02873-adf8-4594-a692-cc960d267f07"
      },
      "outputs": [
        {
          "output_type": "stream",
          "name": "stdout",
          "text": [
            "Do you want to have lower case?(enter Y or N):Y\n",
            "Do you want to have upper case?(enter Y or N):Y\n",
            "Do you want to have numbers?(enter Y or N):Y\n",
            "Do you want to have symbols?(enter Y or N):Y\n",
            "Do you want to have space?(enter Y or N):N\n",
            "What should the password length be?10\n",
            "Generated password: 8*3cFTxD5.'f\n"
          ]
        }
      ],
      "source": [
        "import random\n",
        "import string\n",
        "\n",
        "\n",
        "password = []\n",
        "functions = []\n",
        "\n",
        "def get_settings():\n",
        "\n",
        "    lower_case = input(\"Do you want to have lower case?(enter Y or N):\")\n",
        "    if lower_case == \"Y\":\n",
        "        functions.append(lower_case_generator)\n",
        "\n",
        "    upper_case = input(\"Do you want to have upper case?(enter Y or N):\")\n",
        "    if upper_case == \"Y\":\n",
        "        functions.append(upper_case_generator)\n",
        "\n",
        "    numbers = input(\"Do you want to have numbers?(enter Y or N):\")\n",
        "    if numbers == \"Y\":\n",
        "        number_generator()\n",
        "        functions.append(number_generator)\n",
        "\n",
        "    symbols = input(\"Do you want to have symbols?(enter Y or N):\")\n",
        "    if symbols == \"Y\":\n",
        "        symbol_generator()\n",
        "        functions.append(symbol_generator)\n",
        "\n",
        "    space = input(\"Do you want to have space?(enter Y or N):\")\n",
        "    if space == \"Y\":\n",
        "        space_generator()\n",
        "        functions.append(space_generator)\n",
        "\n",
        "\n",
        "    return functions\n",
        "\n",
        "\n",
        "def lower_case_generator():\n",
        "    lowercase_letters = list(string.ascii_lowercase)\n",
        "    password.append(random.choice(lowercase_letters))\n",
        "    return password\n",
        "\n",
        "def upper_case_generator():\n",
        "    uppercase_letters = list(string.ascii_uppercase)\n",
        "    password.append(random.choice(uppercase_letters))\n",
        "    return password\n",
        "\n",
        "def number_generator():\n",
        "    numbers = list(range(1,10))\n",
        "    password.append(random.choice(numbers))\n",
        "    return password\n",
        "\n",
        "def symbol_generator():\n",
        "    symbols = list(string.punctuation)\n",
        "    password.append(random.choice(symbols))\n",
        "    return password\n",
        "\n",
        "def space_generator():\n",
        "    password.append(\" \")\n",
        "    return password\n",
        "\n",
        "\n",
        "wanted_functions = get_settings()\n",
        "\n",
        "length = int(input(\"What should the password length be?\"))\n",
        "\n",
        "for i in range(length):\n",
        "    random.choice(wanted_functions)()\n",
        "\n",
        "print(\"Generated password:\", ''.join(map(str, password)))"
      ]
    }
  ]
}